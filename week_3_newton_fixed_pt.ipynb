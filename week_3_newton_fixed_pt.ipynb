{
 "cells": [
  {
   "cell_type": "markdown",
   "metadata": {},
   "source": [
    "# Part I. Root-finding. Newton's iteration."
   ]
  },
  {
   "cell_type": "markdown",
   "metadata": {},
   "source": [
    "Write a function which performs Newton's iteration for a given function $f(x)$ with known derivative $f'(x)$. Your function should find the root of $f(x)$ with a predefined absolute accuracy $\\epsilon$. "
   ]
  },
  {
   "cell_type": "code",
   "execution_count": 24,
   "metadata": {},
   "outputs": [],
   "source": [
    "def newton_iteration(f, fder, x0, eps=1e-5, maxiter=1000):\n",
    "    \"\"\"Find a root of $f(x) = 0$ via Newton's iteration starting from x0.\n",
    "    \n",
    "    Parameters\n",
    "    ----------\n",
    "    f : callable\n",
    "        The function to find a root of.\n",
    "    fder : callable\n",
    "        The derivative of `f`.\n",
    "    x0 : float\n",
    "        Initial value for the Newton's iteration.\n",
    "    eps : float\n",
    "        The target accuracy. \n",
    "        The iteration stops when the distance between successive iterates is below `eps`.\n",
    "        Default is 1e-5.\n",
    "    maxiter : int\n",
    "        The maximum number of iterations (default is 1000.)\n",
    "        Iterations terminate if the number of iterations exceeds `maxiter`.\n",
    "        This parameter is only needed to avoid infinite loops if iterations wander off.\n",
    "        \n",
    "    Returns\n",
    "    -------\n",
    "    x : float\n",
    "        The estimate for the root.\n",
    "    niter : int\n",
    "        The number of iterations.\n",
    "    \"\"\"\n",
    "    x = x0\n",
    "    for i in range(maxiter):\n",
    "        xn = x - f(x)/fder(x)\n",
    "        if ((xn - x) < eps and (xn - x) > -eps):\n",
    "            return xn\n",
    "        x = xn\n",
    "    return x"
   ]
  },
  {
   "cell_type": "markdown",
   "metadata": {},
   "source": [
    "### Test I.1 \n",
    "\n",
    "Test your implementation on a simple example, $f(x) = x^2 - 1$ or similar. (20% of the total grade)"
   ]
  },
  {
   "cell_type": "code",
   "execution_count": 27,
   "metadata": {},
   "outputs": [
    {
     "name": "stdout",
     "output_type": "stream",
     "text": [
      "1.0000000000139897\n",
      "2.7979396577393345e-11\n"
     ]
    }
   ],
   "source": [
    "res = newton_iteration(lambda x: (x**2 - 1), lambda x: 2*x, 0.1)\n",
    "print(res)\n",
    "print(res**2 - 1)"
   ]
  },
  {
   "cell_type": "markdown",
   "metadata": {},
   "source": [
    "### Test I.2\n",
    "\n",
    "Now consider a function which has a multiple root. Take $f(x) = (x^2 - 1)^2$ as an example. Implement a modified Newton's iteraion,\n",
    "\n",
    "$$\n",
    "x_{n+1} = x_{n} - m \\frac{f(x_n)}{f'(x_n)}\n",
    "$$\n",
    "\n",
    "and vary $m= 1, 2, 3, 4, 5$. Check the number of iterations required for convergence within a fixed $\\epsilon$. Are your observations consistent with the expectation that the convergence is quadratic is $m$ equals the multiplicity of the root, and is linear otherwise? (40% of the total grade)"
   ]
  },
  {
   "cell_type": "code",
   "execution_count": 30,
   "metadata": {},
   "outputs": [
    {
     "name": "stdout",
     "output_type": "stream",
     "text": [
      "1.000008176516911\n",
      "19\n",
      "1.0000000000139897\n",
      "6\n",
      "0.9999978368832554\n",
      "18\n",
      "0.09999999999999964\n",
      "1000\n",
      "-6.394887021961925\n",
      "1000\n"
     ]
    }
   ],
   "source": [
    "def ni2 (f, fder, m, x0, eps=1e-5, maxiter=1000):\n",
    "    x = x0\n",
    "    for i in range(maxiter):\n",
    "        xn = x - m * f(x)/fder(x)\n",
    "        if ((xn - x) < eps and (xn - x) > -eps):\n",
    "            return (xn, i)\n",
    "        x = xn\n",
    "    return (x, maxiter)\n",
    "\n",
    "for i in range(5):\n",
    "    res, n = ni2(lambda x: ((x**2 - 1)**2), lambda x: (4*x*(x**2 - 1)), i + 1, 0.1)\n",
    "    print(res)\n",
    "    print(n)\n",
    "    \n",
    "#при m = 2 последовательность действительно сходится быстрее всего"
   ]
  },
  {
   "cell_type": "markdown",
   "metadata": {},
   "source": [
    "# Part II. Fixed-point iteration"
   ]
  },
  {
   "cell_type": "markdown",
   "metadata": {},
   "source": [
    "Consider the following equation:\n",
    "\n",
    "$$\n",
    "\\sqrt{x} = \\cos{x}\n",
    "$$\n",
    "\n",
    "Plot the left-hand side and right-hand side of this equation, and localize the root graphically. Estimate the location of the root by visual inspection of the plot.\n",
    "\n",
    "Write a function which finds the solution using fixed-point iteration up to a predefined accuracy $\\epsilon$. Compare the result to an estimate from a visual inspection.\n",
    "\n",
    "Next, rewrite the fixed-point problem in the form\n",
    "\n",
    "$$\n",
    "x = x - \\alpha f(x)\n",
    "$$\n",
    "\n",
    "where $\\alpha$ is the free parameter. Check the dependence of the number of iterations required for a given $\\epsilon$ on $\\alpha$. Compare your results to an expectation that the optimal value of $\\alpha$ is given by \n",
    "\n",
    "$$\n",
    "\\alpha = \\frac{2}{m + M}\n",
    "$$\n",
    "\n",
    "where $0 < m < |f'(x)| < M$ over the localization interval. (40% of the total grade)"
   ]
  },
  {
   "cell_type": "code",
   "execution_count": 41,
   "metadata": {},
   "outputs": [
    {
     "name": "stdout",
     "output_type": "stream",
     "text": [
      "0.6417095534222992\n",
      "\n",
      "\n",
      "[0.6        0.64156149 0.64164398 0.64167159 0.64168575 0.64169459\n",
      " 0.64170311 0.64170469 0.64170756 0.64170794 0.64171105 0.64171253\n",
      " 0.64171329 0.64171371 0.64171398 0.6417142  0.64171436 0.64171428\n",
      " 0.64171478 0.64171365]\n",
      "\n",
      "\n",
      "3.0\n"
     ]
    },
    {
     "data": {
      "image/png": "[encoded data removed]",
      "text/plain": [
       "<Figure size 432x288 with 1 Axes>"
      ]
     },
     "metadata": {
      "needs_background": "light"
     },
     "output_type": "display_data"
    }
   ],
   "source": [
    "import numpy as np\n",
    "import matplotlib.pyplot as mpl\n",
    "\n",
    "def fp1 (x0, eps = 1e-5):\n",
    "    x = x0\n",
    "    for i in range(100000):\n",
    "        xn = (np.cos(x))**2\n",
    "        if ((xn - x) < eps and (xn - x) > -eps):\n",
    "            return xn\n",
    "        x = xn\n",
    "    return x\n",
    "\n",
    "def fp2 (x0, a, eps = 1e-5):\n",
    "    x = x0\n",
    "    for i in range (100000):\n",
    "        xn = x - a*(np.sqrt(x) - np.cos(x))\n",
    "        if ((xn - x) < eps and (xn - x) > -eps):\n",
    "            return xn, i\n",
    "        x = xn\n",
    "    return x, 100000\n",
    "\n",
    "\n",
    "x = np.arange(0, 1, 1e-5)\n",
    "alpha = np.arange(0, 1, 0.05)\n",
    "\n",
    "\n",
    "#mpl.plot(x, np.cos(x), x, np.sqrt(x))\n",
    "print(fp1(0.6))\n",
    "\n",
    "res = np.zeros(len(alpha))\n",
    "n = np.zeros(len(alpha))\n",
    "for i in range (len(alpha)):\n",
    "    res[i], n[i] = fp2(0.6, alpha[i])\n",
    "\n",
    "\n",
    "print(\"\\n\")\n",
    "print(res)\n",
    "mpl.plot(alpha, n)\n",
    "\n",
    "print(\"\\n\")\n",
    "print(n[16])\n",
    "\n",
    "#на графике видно минимум количества итераций до того, как последовательность сходится\n",
    "#минимальное кол-во итераций - 3\n",
    "#минимум достигается при альфа = 0.8"
   ]
  },
  {
   "cell_type": "markdown",
   "metadata": {},
   "source": [
    "# Part III. Newton's fractal.\n",
    "\n",
    "(Not graded). \n",
    "\n",
    "Consider the equation\n",
    "\n",
    "$$\n",
    "x^3 = 1\n",
    "$$\n",
    "\n",
    "It has three solutions in the complex plane, $x_k = \\exp(i\\, 2\\pi k/ 3)$, $k = 0, 1, 2$.\n",
    "\n",
    "The Newton's iterations converge to one of these solutions, depending on the starting point in the complex plane (to converge to a complex-valued solution, the iteration needs a complex-valued starting point).\n",
    "\n",
    "Plot the \\emph{basins of attraction} of these roots on the complex plane of $x$ (i.e., on the plane $\\mathrm{Re}x$ -- $\\mathrm{Im}x$). To this end, make a series of calculations, varying the initial conditions on a grid of points. \n",
    "Color the grid in three colors, according to the root, to which iterations converged."
   ]
  },
  {
   "cell_type": "code",
   "execution_count": null,
   "metadata": {
    "collapsed": true
   },
   "outputs": [],
   "source": []
  }
 ],
 "metadata": {
  "kernelspec": {
   "display_name": "Python 3",
   "language": "python",
   "name": "python3"
  },
  "language_info": {
   "codemirror_mode": {
    "name": "ipython",
    "version": 3
   },
   "file_extension": ".py",
   "mimetype": "text/x-python",
   "name": "python",
   "nbconvert_exporter": "python",
   "pygments_lexer": "ipython3",
   "version": "3.7.3"
  }
 },
 "nbformat": 4,
 "nbformat_minor": 2
}
